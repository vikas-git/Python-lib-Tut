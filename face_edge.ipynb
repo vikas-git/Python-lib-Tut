{
 "cells": [
  {
   "cell_type": "code",
   "execution_count": 1,
   "metadata": {},
   "outputs": [],
   "source": [
    "'''\n",
    "    Source url :\n",
    "    https://towardsdatascience.com/find-face-edges-in-20-lines-of-code-from-scratch-8058e128c013\n",
    "'''\n",
    "from PIL import Image\n",
    "import numpy as np\n",
    "import matplotlib.pyplot as plt\n",
    "import math\n"
   ]
  },
  {
   "cell_type": "code",
   "execution_count": 7,
   "metadata": {},
   "outputs": [
    {
     "data": {
      "image/png": "[encoded data removed]",
      "text/plain": [
       "<Figure size 432x288 with 1 Axes>"
      ]
     },
     "metadata": {
      "needs_background": "light"
     },
     "output_type": "display_data"
    }
   ],
   "source": [
    "file_name = 'IMG-20190702-WA0005.jpg'\n",
    "im = Image.open(file_name)\n",
    "im_array = np.asarray(im)\n",
    "\n",
    "# You can resize the image first if it is too big.\n",
    "n = 2\n",
    "im = im.resize((int(im.size[0]/n), int(im.size[1]/n)))\n",
    "\n",
    "# square root difference between two pixels.\n",
    "def sqrt_diff(a,b):    \n",
    "    return math.sqrt( sum((int(a[i])-int(b[i]))**2 for i in range(3)) /3 )\n",
    "\n",
    "\n",
    "diff_threshold = 25\n",
    "new_array = np.copy(im_array)\n",
    "for row in range(im_array.shape[0]-1):\n",
    "    for col in range(im_array.shape[1]-1):\n",
    "        # change an edge pixel to black if it is much different from neighbours (right and below)\n",
    "        # otherwise change it to white as background\n",
    "        if ( sqrt_diff(im_array[row,col],im_array[row,col+1]) > diff_threshold\n",
    "            or sqrt_diff(im_array[row,col],im_array[row+1,col]) > diff_threshold):\n",
    "            new_array[row,col] = [0,0,0] # black\n",
    "        else:\n",
    "            new_array[row,col] = [255,255,255] # white\n",
    "\n",
    "plt.imshow(new_array)\n",
    "plt.savefig('new1.png')\n",
    "\n",
    "plt.imshow(new_array)\n",
    "plt.show()\n"
   ]
  }
 ],
 "metadata": {
  "kernelspec": {
   "display_name": "Python 3",
   "language": "python",
   "name": "python3"
  },
  "language_info": {
   "codemirror_mode": {
    "name": "ipython",
    "version": 3
   },
   "file_extension": ".py",
   "mimetype": "text/x-python",
   "name": "python",
   "nbconvert_exporter": "python",
   "pygments_lexer": "ipython3",
   "version": "3.5.2"
  }
 },
 "nbformat": 4,
 "nbformat_minor": 2
}
